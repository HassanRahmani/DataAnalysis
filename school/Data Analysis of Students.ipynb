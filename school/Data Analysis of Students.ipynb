{
 "cells": [
  {
   "cell_type": "code",
   "execution_count": 1,
   "id": "383f390b",
   "metadata": {},
   "outputs": [],
   "source": [
    "import pandas as pd"
   ]
  },
  {
   "cell_type": "code",
   "execution_count": 78,
   "id": "148dd1b4",
   "metadata": {
    "scrolled": true
   },
   "outputs": [],
   "source": [
    "#loading the data only first 10 enteries \n",
    "df = pd.read_csv(\"students.csv\")\n",
    "df.head(10)"
   ]
  },
  {
   "cell_type": "code",
   "execution_count": 59,
   "id": "acd5a9c4",
   "metadata": {},
   "outputs": [],
   "source": [
    "#Male and Female count \n",
    "male = df.loc[df[\"gender\"]==\"male\"]\n",
    "female = df.loc[df[\"gender\"]==\"female\"]\n",
    "print(\"number of male: \",len(male))\n",
    "print(\"number of female: \",len(female))"
   ]
  },
  {
   "cell_type": "code",
   "execution_count": 58,
   "id": "193c781f",
   "metadata": {},
   "outputs": [],
   "source": [
    "#what grades are more A B or C ?\n",
    "A = df.loc[df[\"Grade\"]==\" A\"] \n",
    "B = df.loc[df[\"Grade\"]==\" B\"]\n",
    "C = df.loc[df[\"Grade\"]==\" C\"]\n",
    "print(\"Number of students having A: \",len(A))\n",
    "print(\"Number of students having B: \",len(B))\n",
    "print(\"Number of students having C: \",len(C))\n"
   ]
  },
  {
   "cell_type": "code",
   "execution_count": 57,
   "id": "f1c54c7c",
   "metadata": {},
   "outputs": [],
   "source": [
    "#what gender has more A's ?\n",
    "#finding male A's\n",
    "male_all_A = df.loc[df[\"gender\"]==\"male\"]\n",
    "males_with_A = male_all_A.loc[df[\"Grade\"].str.contains(\"A\")]\n",
    "print(\"Males having A in their exams are: \", len(males_with_A))\n",
    "#Finding female A's\n",
    "female_all_A = df.loc[df[\"gender\"]==\"female\"]\n",
    "females_with_A = female_all_A.loc[df[\"Grade\"].str.contains(\"A\")]\n",
    "print(\"Females having A in their exams are: \", len(females_with_A))"
   ]
  },
  {
   "cell_type": "code",
   "execution_count": 84,
   "id": "75f48c7f",
   "metadata": {},
   "outputs": [],
   "source": [
    "#total grades of the students\n",
    "df[\"Total Marks\"] = df[\"math score\"] + df[\"reading score\"] + df[\"writing score\"]\n",
    "#top 10 students from the school \n",
    "top_students = df.sort_values(by=\"Total Marks\",ascending=False)\n",
    "top_students.head(10)\n",
    "df.to_csv(\"result students.csv\")"
   ]
  },
  {
   "cell_type": "code",
   "execution_count": null,
   "id": "78167e7c",
   "metadata": {},
   "outputs": [],
   "source": []
  },
  {
   "cell_type": "code",
   "execution_count": null,
   "id": "0734a899",
   "metadata": {},
   "outputs": [],
   "source": []
  },
  {
   "cell_type": "code",
   "execution_count": null,
   "id": "bf32ce1f",
   "metadata": {},
   "outputs": [],
   "source": []
  }
 ],
 "metadata": {
  "kernelspec": {
   "display_name": "Python 3 (ipykernel)",
   "language": "python",
   "name": "python3"
  },
  "language_info": {
   "codemirror_mode": {
    "name": "ipython",
    "version": 3
   },
   "file_extension": ".py",
   "mimetype": "text/x-python",
   "name": "python",
   "nbconvert_exporter": "python",
   "pygments_lexer": "ipython3",
   "version": "3.9.5"
  }
 },
 "nbformat": 4,
 "nbformat_minor": 5
}
