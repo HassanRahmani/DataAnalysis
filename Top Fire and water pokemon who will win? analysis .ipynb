{
 "cells": [
  {
   "cell_type": "code",
   "execution_count": 14,
   "id": "56a5e227",
   "metadata": {},
   "outputs": [],
   "source": [
    "import pandas as pd"
   ]
  },
  {
   "cell_type": "code",
   "execution_count": 31,
   "id": "075dba27",
   "metadata": {},
   "outputs": [],
   "source": [
    "df = pd.read_csv(\"pokemon.csv\")\n",
    "df['Total stat'] = df[\"HP\"] + df[\"Attack\"] + df[\"Defense\"] + df[\"Sp. Atk\"] + df[\"Sp. Def\"] + df[\"Speed\"]"
   ]
  },
  {
   "cell_type": "code",
   "execution_count": null,
   "id": "e68f82a0",
   "metadata": {
    "scrolled": false
   },
   "outputs": [],
   "source": [
    "Best_pokemons_each_type = df.loc[df[\"Type 1\"].str.contains(\"Whatever pokemon you want type\")]\n",
    "Best_pokemons_each_type.sort_values(by=\"Total stat\",ascending=False)"
   ]
  },
  {
   "cell_type": "code",
   "execution_count": 178,
   "id": "ba8e926c",
   "metadata": {},
   "outputs": [],
   "source": [
    "#Best Pokemons of their Types and their full stats\n",
    "Fire = df.iloc[270]\n",
    "Water = df.iloc[422]\n",
    "Normal = df.iloc[552]\n",
    "Grass = df.iloc[275]\n",
    "Flying = df.iloc[702]\n",
    "Poison = df.iloc[183]\n",
    "Electric = df.iloc[196]\n",
    "Ground = df.iloc[424]\n",
    "Rock = df.iloc[796]\n",
    "Psychic = df.iloc[163]\n",
    "Ice = df.iloc[415]\n",
    "Bug = df.iloc[232]\n",
    "Ghost = df.iloc[545]\n",
    "Steel = df.iloc[413]\n",
    "Dragon = df.iloc[426]\n",
    "Dark = df.iloc[793]\n",
    "Fairy = df.iloc[792]"
   ]
  },
  {
   "cell_type": "code",
   "execution_count": null,
   "id": "53a8ba78",
   "metadata": {},
   "outputs": [],
   "source": [
    "#storing best pokemons stats in a csv file\n",
    "data = {Normal, Fire, Water, Grass, Flying, Poison, Electric, Ground, Rock, Psychic, Ice, Bug, Ghost, Steel, Dragon, Dark,Fairy}\n",
    "s = pd.DataFrame(data)\n",
    "s.to_csv(\"Strongest Pokemons of every Type.csv\""
   ]
  },
  {
   "cell_type": "code",
   "execution_count": null,
   "id": "61ffc0f4",
   "metadata": {},
   "outputs": [],
   "source": [
    "#pokemons total stats sum to decide which one is the strongest \n",
    "data = {Normal[\"Total stat\"], \n",
    "        Fire[\"Total stat\"], \n",
    "        Water[\"Total stat\"], \n",
    "        Grass[\"Total stat\"], \n",
    "        Flying[\"Total stat\"], \n",
    "        Poison[\"Total stat\"], \n",
    "        Electric[\"Total stat\"], \n",
    "        Ground[\"Total stat\"], \n",
    "        Rock[\"Total stat\"], \n",
    "        Psychic[\"Total stat\"], \n",
    "        Ice[\"Total stat\"], \n",
    "        Bug[\"Total stat\"], \n",
    "        Ghost[\"Total stat\"], \n",
    "        Steel[\"Total stat\"], \n",
    "        Dragon[\"Total stat\"], \n",
    "        Dark[\"Total stat\"],\n",
    "        Fairy[\"Total stat\"]}\n",
    "#making a data Frame and storing in a new csv file for graphical representation\n",
    "stats = pd.DataFrame(data)\n",
    "stats.to_csv(\"test.csv\")"
   ]
  }
 ],
 "metadata": {
  "kernelspec": {
   "display_name": "Python 3 (ipykernel)",
   "language": "python",
   "name": "python3"
  },
  "language_info": {
   "codemirror_mode": {
    "name": "ipython",
    "version": 3
   },
   "file_extension": ".py",
   "mimetype": "text/x-python",
   "name": "python",
   "nbconvert_exporter": "python",
   "pygments_lexer": "ipython3",
   "version": "3.9.5"
  }
 },
 "nbformat": 4,
 "nbformat_minor": 5
}
